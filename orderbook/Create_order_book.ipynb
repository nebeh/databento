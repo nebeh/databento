{
 "cells": [
  {
   "cell_type": "markdown",
   "metadata": {},
   "source": [
    "Читаем файл databento и собираем стакан на каждые 15 мин"
   ]
  },
  {
   "cell_type": "code",
   "execution_count": null,
   "metadata": {},
   "outputs": [],
   "source": [
    "import dask.dataframe as dd\n",
    "import pandas as pd\n",
    "\n",
    "df = dd.read_csv(file)\n",
    "# Удаление строк, где symbol != 'NQZ4'\n",
    "df = df[df[\"symbol\"] == \"NQZ4\"]\n",
    "\n",
    "# Удаление строк с NaN\n",
    "df = df.dropna()\n",
    "\n",
    "# Преобразование временной метки в datetime\n",
    "df[\"datetime\"] = dd.to_datetime(df[\"ts_recv\"] // 10**9, unit=\"s\", utc=True)\n",
    "\n",
    "\n",
    "def process_orders_15min(df):\n",
    "    \"\"\"\n",
    "    Обрабатывает заявки каждые 15 минут с учетом добавления, отмены и модификации.\n",
    "    \"\"\"\n",
    "    # Упрощение временных интервалов до 15-минутных биннингов\n",
    "    df[\"15min_bin\"] = df[\"datetime\"].dt.floor(\"15T\")\n",
    "\n",
    "    # Группировка данных по временным интервалам и обработка заявок\n",
    "    def aggregate_orders(block):\n",
    "        current_orders = {}\n",
    "        results = []\n",
    "\n",
    "        for _, row in block.iterrows():\n",
    "            order_id = row[\"order_id\"]\n",
    "            if row[\"action\"] == \"A\":  # Add\n",
    "                current_orders[order_id] = row\n",
    "            elif row[\"action\"] == \"C\":  # Cancel\n",
    "                current_orders.pop(order_id, None)\n",
    "            elif row[\"action\"] == \"M\":  # Modify\n",
    "                if order_id in current_orders:\n",
    "                    current_orders[order_id] = row\n",
    "\n",
    "        if current_orders:\n",
    "            orders_df = pd.DataFrame.from_dict(current_orders, orient=\"index\")\n",
    "            aggregated = (\n",
    "                orders_df.groupby([\"side\", \"price\"])[\"size\"].sum().reset_index()\n",
    "            )\n",
    "            aggregated[\"15min_bin\"] = row[\n",
    "                \"15min_bin\"\n",
    "            ]  # Вставляем текущий интервал времени\n",
    "            results.append(aggregated)\n",
    "\n",
    "        return pd.concat(results, ignore_index=True) if results else pd.DataFrame()\n",
    "\n",
    "    grouped = df.map_partitions(\n",
    "        aggregate_orders,\n",
    "        meta={\n",
    "            \"side\": \"object\",\n",
    "            \"price\": \"float64\",\n",
    "            \"size\": \"float64\",\n",
    "            \"15min_bin\": \"datetime64[ns]\",\n",
    "        },\n",
    "    )\n",
    "\n",
    "    # Группировка итогов по интервалам времени\n",
    "    summary = (\n",
    "        grouped.groupby([\"15min_bin\", \"side\", \"price\"])[\"size\"].sum().reset_index()\n",
    "    )\n",
    "    return summary\n",
    "\n",
    "\n",
    "# Применяем обработку\n",
    "summary_15min = process_orders_15min(df)\n",
    "\n",
    "# Выполняем вычисления\n",
    "result = summary_15min.compute()\n",
    "\n",
    "# Вывод результата\n",
    "print(\"Summary every 15 minutes:\")\n",
    "print(result)\n"
   ]
  },
  {
   "cell_type": "markdown",
   "metadata": {},
   "source": [
    "Запись в файл (если необходимо)"
   ]
  },
  {
   "cell_type": "markdown",
   "metadata": {},
   "source": [
    "result.to_csv(name)"
   ]
  }
 ],
 "metadata": {
  "language_info": {
   "name": "python"
  }
 },
 "nbformat": 4,
 "nbformat_minor": 2
}
