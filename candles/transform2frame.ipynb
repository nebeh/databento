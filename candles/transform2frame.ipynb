{
 "cells": [
  {
   "cell_type": "code",
   "execution_count": 1,
   "metadata": {},
   "outputs": [],
   "source": [
    "import pandas as pd\n",
   ]
  },
  {
   "cell_type": "code",
   "execution_count": 33,
   "metadata": {},
   "outputs": [],
   "source": [
    "df = pd.read_csv(path2data)"
   ]
  },
  {
   "cell_type": "code",
   "execution_count": 90,
   "metadata": {},
   "outputs": [
    {
     "name": "stdout",
     "output_type": "stream",
     "text": [
      "                               open      high       low     close  size_size  \\\n",
      "ts_event                                                                       \n",
      "2022-08-01 00:00:00+00:00  12919.50  12923.50  12918.00  12923.50        150   \n",
      "2022-08-01 00:01:00+00:00  12923.25  12923.25  12913.75  12917.00        189   \n",
      "2022-08-01 00:02:00+00:00  12917.50  12918.75  12912.75  12913.75        122   \n",
      "2022-08-01 00:03:00+00:00  12913.25  12915.00  12911.25  12911.25         88   \n",
      "2022-08-01 00:04:00+00:00  12911.00  12916.00  12910.00  12914.50        227   \n",
      "...                             ...       ...       ...       ...        ...   \n",
      "2022-08-31 23:55:00+00:00  12169.25  12172.50  12167.50  12172.50        123   \n",
      "2022-08-31 23:56:00+00:00  12173.50  12249.25  12173.00  12176.25        140   \n",
      "2022-08-31 23:57:00+00:00  12177.25  12183.00  12176.50  12177.50        281   \n",
      "2022-08-31 23:58:00+00:00  12177.50  12178.75  12173.50  12176.50        125   \n",
      "2022-08-31 23:59:00+00:00  12176.75  12179.75  12176.25  12177.75        142   \n",
      "\n",
      "                          symbol  \n",
      "ts_event                          \n",
      "2022-08-01 00:00:00+00:00   test  \n",
      "2022-08-01 00:01:00+00:00   test  \n",
      "2022-08-01 00:02:00+00:00   test  \n",
      "2022-08-01 00:03:00+00:00   test  \n",
      "2022-08-01 00:04:00+00:00   test  \n",
      "...                          ...  \n",
      "2022-08-31 23:55:00+00:00   test  \n",
      "2022-08-31 23:56:00+00:00   test  \n",
      "2022-08-31 23:57:00+00:00   test  \n",
      "2022-08-31 23:58:00+00:00   test  \n",
      "2022-08-31 23:59:00+00:00   test  \n",
      "\n",
      "[44640 rows x 6 columns]\n"
     ]
    }
   ],
   "source": [
    "# Convert 'ts_event' to datetime if it isn't already\n",
    "#df['ts_event'] = pd.to_datetime(df['ts_event'])\n",
    "\n",
    "# Set 'ts_event' as the index\n",
    "#df.set_index('ts_event', inplace=True)\n",
    "\n",
    "# Now resample as intended\n",
    "resampled_df = df.resample(\"1min\").agg({\"price\": \"ohlc\", \"size\": \"sum\"})\n",
    "\n",
    "# Flatten the multi-level columns resulting from the ohlc aggregation\n",
    "resampled_df.columns = ['_'.join(col).strip() for col in resampled_df.columns.values]\n",
    "resampled_df.rename(columns={\"price_open\": \"open\", \"price_high\": \"high\", \"price_low\": \"low\",\n",
    "                              \"price_close\": \"close\", \"size_sum\": \"volume\"}, inplace=True)\n",
    "\n",
    "# Add the symbol column\n",
    "resampled_df['symbol'] = 'test'\n",
    "\n",
    "# Print the final 1-minute aggregate bars\n",
    "print(resampled_df)\n",
    "#df = resampled_df\n",
    "#del resampled_df"
   ]
  }
 ],
 "metadata": {
  "kernelspec": {
   "display_name": "deep",
   "language": "python",
   "name": "python3"
  },
  "language_info": {
   "codemirror_mode": {
    "name": "ipython",
    "version": 3
   },
   "file_extension": ".py",
   "mimetype": "text/x-python",
   "name": "python",
   "nbconvert_exporter": "python",
   "pygments_lexer": "ipython3",
   "version": "3.12.7"
  }
 },
 "nbformat": 4,
 "nbformat_minor": 2
}
